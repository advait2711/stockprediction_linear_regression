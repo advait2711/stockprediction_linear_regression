{
 "cells": [
  {
   "cell_type": "code",
   "execution_count": 59,
   "id": "a1bbe249",
   "metadata": {},
   "outputs": [],
   "source": [
    "import pandas as pd\n",
    "import numpy as np\n",
    "from sklearn import metrics\n",
    "%matplotlib inline\n",
    "import matplotlib.pyplot as plt"
   ]
  },
  {
   "cell_type": "code",
   "execution_count": 60,
   "id": "c3687b74",
   "metadata": {},
   "outputs": [],
   "source": [
    "df = pd.read_csv(r\"C:\\Users\\advait\\Downloads\\HDFCBANK.csv\")"
   ]
  },
  {
   "cell_type": "code",
   "execution_count": 61,
   "id": "d58b0998",
   "metadata": {},
   "outputs": [
    {
     "data": {
      "text/html": [
       "<div>\n",
       "<style scoped>\n",
       "    .dataframe tbody tr th:only-of-type {\n",
       "        vertical-align: middle;\n",
       "    }\n",
       "\n",
       "    .dataframe tbody tr th {\n",
       "        vertical-align: top;\n",
       "    }\n",
       "\n",
       "    .dataframe thead th {\n",
       "        text-align: right;\n",
       "    }\n",
       "</style>\n",
       "<table border=\"1\" class=\"dataframe\">\n",
       "  <thead>\n",
       "    <tr style=\"text-align: right;\">\n",
       "      <th></th>\n",
       "      <th>Date</th>\n",
       "      <th>Symbol</th>\n",
       "      <th>Series</th>\n",
       "      <th>Prev Close</th>\n",
       "      <th>Open</th>\n",
       "      <th>High</th>\n",
       "      <th>Low</th>\n",
       "      <th>Last</th>\n",
       "      <th>Close</th>\n",
       "      <th>VWAP</th>\n",
       "      <th>Volume</th>\n",
       "      <th>Turnover</th>\n",
       "      <th>Trades</th>\n",
       "      <th>Deliverable Volume</th>\n",
       "      <th>%Deliverble</th>\n",
       "    </tr>\n",
       "  </thead>\n",
       "  <tbody>\n",
       "    <tr>\n",
       "      <th>0</th>\n",
       "      <td>2000-01-03</td>\n",
       "      <td>HDFCBANK</td>\n",
       "      <td>EQ</td>\n",
       "      <td>157.40</td>\n",
       "      <td>166.00</td>\n",
       "      <td>170.00</td>\n",
       "      <td>166.00</td>\n",
       "      <td>170.00</td>\n",
       "      <td>170.00</td>\n",
       "      <td>169.52</td>\n",
       "      <td>33259</td>\n",
       "      <td>5.638122e+11</td>\n",
       "      <td>NaN</td>\n",
       "      <td>NaN</td>\n",
       "      <td>NaN</td>\n",
       "    </tr>\n",
       "    <tr>\n",
       "      <th>1</th>\n",
       "      <td>2000-01-04</td>\n",
       "      <td>HDFCBANK</td>\n",
       "      <td>EQ</td>\n",
       "      <td>170.00</td>\n",
       "      <td>182.00</td>\n",
       "      <td>183.45</td>\n",
       "      <td>171.00</td>\n",
       "      <td>174.00</td>\n",
       "      <td>173.80</td>\n",
       "      <td>174.99</td>\n",
       "      <td>168710</td>\n",
       "      <td>2.952261e+12</td>\n",
       "      <td>NaN</td>\n",
       "      <td>NaN</td>\n",
       "      <td>NaN</td>\n",
       "    </tr>\n",
       "    <tr>\n",
       "      <th>2</th>\n",
       "      <td>2000-01-05</td>\n",
       "      <td>HDFCBANK</td>\n",
       "      <td>EQ</td>\n",
       "      <td>173.80</td>\n",
       "      <td>170.00</td>\n",
       "      <td>173.90</td>\n",
       "      <td>165.00</td>\n",
       "      <td>168.00</td>\n",
       "      <td>166.95</td>\n",
       "      <td>169.20</td>\n",
       "      <td>159820</td>\n",
       "      <td>2.704094e+12</td>\n",
       "      <td>NaN</td>\n",
       "      <td>NaN</td>\n",
       "      <td>NaN</td>\n",
       "    </tr>\n",
       "    <tr>\n",
       "      <th>3</th>\n",
       "      <td>2000-01-06</td>\n",
       "      <td>HDFCBANK</td>\n",
       "      <td>EQ</td>\n",
       "      <td>166.95</td>\n",
       "      <td>168.00</td>\n",
       "      <td>170.00</td>\n",
       "      <td>165.30</td>\n",
       "      <td>168.95</td>\n",
       "      <td>168.30</td>\n",
       "      <td>168.44</td>\n",
       "      <td>85026</td>\n",
       "      <td>1.432166e+12</td>\n",
       "      <td>NaN</td>\n",
       "      <td>NaN</td>\n",
       "      <td>NaN</td>\n",
       "    </tr>\n",
       "    <tr>\n",
       "      <th>4</th>\n",
       "      <td>2000-01-07</td>\n",
       "      <td>HDFCBANK</td>\n",
       "      <td>EQ</td>\n",
       "      <td>168.30</td>\n",
       "      <td>162.15</td>\n",
       "      <td>171.00</td>\n",
       "      <td>162.15</td>\n",
       "      <td>170.75</td>\n",
       "      <td>168.35</td>\n",
       "      <td>166.79</td>\n",
       "      <td>85144</td>\n",
       "      <td>1.420158e+12</td>\n",
       "      <td>NaN</td>\n",
       "      <td>NaN</td>\n",
       "      <td>NaN</td>\n",
       "    </tr>\n",
       "  </tbody>\n",
       "</table>\n",
       "</div>"
      ],
      "text/plain": [
       "         Date    Symbol Series  Prev Close    Open    High     Low    Last  \\\n",
       "0  2000-01-03  HDFCBANK     EQ      157.40  166.00  170.00  166.00  170.00   \n",
       "1  2000-01-04  HDFCBANK     EQ      170.00  182.00  183.45  171.00  174.00   \n",
       "2  2000-01-05  HDFCBANK     EQ      173.80  170.00  173.90  165.00  168.00   \n",
       "3  2000-01-06  HDFCBANK     EQ      166.95  168.00  170.00  165.30  168.95   \n",
       "4  2000-01-07  HDFCBANK     EQ      168.30  162.15  171.00  162.15  170.75   \n",
       "\n",
       "    Close    VWAP  Volume      Turnover  Trades  Deliverable Volume  \\\n",
       "0  170.00  169.52   33259  5.638122e+11     NaN                 NaN   \n",
       "1  173.80  174.99  168710  2.952261e+12     NaN                 NaN   \n",
       "2  166.95  169.20  159820  2.704094e+12     NaN                 NaN   \n",
       "3  168.30  168.44   85026  1.432166e+12     NaN                 NaN   \n",
       "4  168.35  166.79   85144  1.420158e+12     NaN                 NaN   \n",
       "\n",
       "   %Deliverble  \n",
       "0          NaN  \n",
       "1          NaN  \n",
       "2          NaN  \n",
       "3          NaN  \n",
       "4          NaN  "
      ]
     },
     "execution_count": 61,
     "metadata": {},
     "output_type": "execute_result"
    }
   ],
   "source": [
    "df.head()"
   ]
  },
  {
   "cell_type": "markdown",
   "id": "6cc00780",
   "metadata": {},
   "source": [
    "<span style=\"color:black\"># PRE-PROCESSING</span>"
   ]
  },
  {
   "cell_type": "code",
   "execution_count": 62,
   "id": "f1417976",
   "metadata": {},
   "outputs": [],
   "source": [
    "df.drop(['Trades','Deliverable Volume','%Deliverble'],axis=1,inplace=True)"
   ]
  },
  {
   "cell_type": "code",
   "execution_count": 63,
   "id": "dfce3986",
   "metadata": {},
   "outputs": [
    {
     "data": {
      "text/html": [
       "<div>\n",
       "<style scoped>\n",
       "    .dataframe tbody tr th:only-of-type {\n",
       "        vertical-align: middle;\n",
       "    }\n",
       "\n",
       "    .dataframe tbody tr th {\n",
       "        vertical-align: top;\n",
       "    }\n",
       "\n",
       "    .dataframe thead th {\n",
       "        text-align: right;\n",
       "    }\n",
       "</style>\n",
       "<table border=\"1\" class=\"dataframe\">\n",
       "  <thead>\n",
       "    <tr style=\"text-align: right;\">\n",
       "      <th></th>\n",
       "      <th>Date</th>\n",
       "      <th>Symbol</th>\n",
       "      <th>Series</th>\n",
       "      <th>Prev Close</th>\n",
       "      <th>Open</th>\n",
       "      <th>High</th>\n",
       "      <th>Low</th>\n",
       "      <th>Last</th>\n",
       "      <th>Close</th>\n",
       "      <th>VWAP</th>\n",
       "      <th>Volume</th>\n",
       "      <th>Turnover</th>\n",
       "    </tr>\n",
       "  </thead>\n",
       "  <tbody>\n",
       "    <tr>\n",
       "      <th>0</th>\n",
       "      <td>2000-01-03</td>\n",
       "      <td>HDFCBANK</td>\n",
       "      <td>EQ</td>\n",
       "      <td>NaN</td>\n",
       "      <td>166.00</td>\n",
       "      <td>170.00</td>\n",
       "      <td>166.00</td>\n",
       "      <td>170.00</td>\n",
       "      <td>170.00</td>\n",
       "      <td>169.52</td>\n",
       "      <td>33259</td>\n",
       "      <td>5.638122e+11</td>\n",
       "    </tr>\n",
       "    <tr>\n",
       "      <th>1</th>\n",
       "      <td>2000-01-04</td>\n",
       "      <td>HDFCBANK</td>\n",
       "      <td>EQ</td>\n",
       "      <td>170.00</td>\n",
       "      <td>182.00</td>\n",
       "      <td>183.45</td>\n",
       "      <td>171.00</td>\n",
       "      <td>174.00</td>\n",
       "      <td>173.80</td>\n",
       "      <td>174.99</td>\n",
       "      <td>168710</td>\n",
       "      <td>2.952261e+12</td>\n",
       "    </tr>\n",
       "    <tr>\n",
       "      <th>2</th>\n",
       "      <td>2000-01-05</td>\n",
       "      <td>HDFCBANK</td>\n",
       "      <td>EQ</td>\n",
       "      <td>173.80</td>\n",
       "      <td>170.00</td>\n",
       "      <td>173.90</td>\n",
       "      <td>165.00</td>\n",
       "      <td>168.00</td>\n",
       "      <td>166.95</td>\n",
       "      <td>169.20</td>\n",
       "      <td>159820</td>\n",
       "      <td>2.704094e+12</td>\n",
       "    </tr>\n",
       "    <tr>\n",
       "      <th>3</th>\n",
       "      <td>2000-01-06</td>\n",
       "      <td>HDFCBANK</td>\n",
       "      <td>EQ</td>\n",
       "      <td>166.95</td>\n",
       "      <td>168.00</td>\n",
       "      <td>170.00</td>\n",
       "      <td>165.30</td>\n",
       "      <td>168.95</td>\n",
       "      <td>168.30</td>\n",
       "      <td>168.44</td>\n",
       "      <td>85026</td>\n",
       "      <td>1.432166e+12</td>\n",
       "    </tr>\n",
       "    <tr>\n",
       "      <th>4</th>\n",
       "      <td>2000-01-07</td>\n",
       "      <td>HDFCBANK</td>\n",
       "      <td>EQ</td>\n",
       "      <td>168.30</td>\n",
       "      <td>162.15</td>\n",
       "      <td>171.00</td>\n",
       "      <td>162.15</td>\n",
       "      <td>170.75</td>\n",
       "      <td>168.35</td>\n",
       "      <td>166.79</td>\n",
       "      <td>85144</td>\n",
       "      <td>1.420158e+12</td>\n",
       "    </tr>\n",
       "  </tbody>\n",
       "</table>\n",
       "</div>"
      ],
      "text/plain": [
       "         Date    Symbol Series  Prev Close    Open    High     Low    Last  \\\n",
       "0  2000-01-03  HDFCBANK     EQ         NaN  166.00  170.00  166.00  170.00   \n",
       "1  2000-01-04  HDFCBANK     EQ      170.00  182.00  183.45  171.00  174.00   \n",
       "2  2000-01-05  HDFCBANK     EQ      173.80  170.00  173.90  165.00  168.00   \n",
       "3  2000-01-06  HDFCBANK     EQ      166.95  168.00  170.00  165.30  168.95   \n",
       "4  2000-01-07  HDFCBANK     EQ      168.30  162.15  171.00  162.15  170.75   \n",
       "\n",
       "    Close    VWAP  Volume      Turnover  \n",
       "0  170.00  169.52   33259  5.638122e+11  \n",
       "1  173.80  174.99  168710  2.952261e+12  \n",
       "2  166.95  169.20  159820  2.704094e+12  \n",
       "3  168.30  168.44   85026  1.432166e+12  \n",
       "4  168.35  166.79   85144  1.420158e+12  "
      ]
     },
     "execution_count": 63,
     "metadata": {},
     "output_type": "execute_result"
    }
   ],
   "source": [
    "series_shifted = df['Close'].shift()\n",
    "df['Prev Close'] = series_shifted\n",
    "df.head()"
   ]
  },
  {
   "cell_type": "code",
   "execution_count": 64,
   "id": "eef6b13e",
   "metadata": {},
   "outputs": [
    {
     "data": {
      "text/html": [
       "<div>\n",
       "<style scoped>\n",
       "    .dataframe tbody tr th:only-of-type {\n",
       "        vertical-align: middle;\n",
       "    }\n",
       "\n",
       "    .dataframe tbody tr th {\n",
       "        vertical-align: top;\n",
       "    }\n",
       "\n",
       "    .dataframe thead th {\n",
       "        text-align: right;\n",
       "    }\n",
       "</style>\n",
       "<table border=\"1\" class=\"dataframe\">\n",
       "  <thead>\n",
       "    <tr style=\"text-align: right;\">\n",
       "      <th></th>\n",
       "      <th>Date</th>\n",
       "      <th>Symbol</th>\n",
       "      <th>Open</th>\n",
       "      <th>High</th>\n",
       "      <th>Low</th>\n",
       "      <th>Close</th>\n",
       "      <th>Prev Close</th>\n",
       "    </tr>\n",
       "  </thead>\n",
       "  <tbody>\n",
       "    <tr>\n",
       "      <th>1</th>\n",
       "      <td>2000-01-04</td>\n",
       "      <td>HDFCBANK</td>\n",
       "      <td>182.00</td>\n",
       "      <td>183.45</td>\n",
       "      <td>171.00</td>\n",
       "      <td>173.80</td>\n",
       "      <td>170.00</td>\n",
       "    </tr>\n",
       "    <tr>\n",
       "      <th>2</th>\n",
       "      <td>2000-01-05</td>\n",
       "      <td>HDFCBANK</td>\n",
       "      <td>170.00</td>\n",
       "      <td>173.90</td>\n",
       "      <td>165.00</td>\n",
       "      <td>166.95</td>\n",
       "      <td>173.80</td>\n",
       "    </tr>\n",
       "    <tr>\n",
       "      <th>3</th>\n",
       "      <td>2000-01-06</td>\n",
       "      <td>HDFCBANK</td>\n",
       "      <td>168.00</td>\n",
       "      <td>170.00</td>\n",
       "      <td>165.30</td>\n",
       "      <td>168.30</td>\n",
       "      <td>166.95</td>\n",
       "    </tr>\n",
       "    <tr>\n",
       "      <th>4</th>\n",
       "      <td>2000-01-07</td>\n",
       "      <td>HDFCBANK</td>\n",
       "      <td>162.15</td>\n",
       "      <td>171.00</td>\n",
       "      <td>162.15</td>\n",
       "      <td>168.35</td>\n",
       "      <td>168.30</td>\n",
       "    </tr>\n",
       "    <tr>\n",
       "      <th>5</th>\n",
       "      <td>2000-01-10</td>\n",
       "      <td>HDFCBANK</td>\n",
       "      <td>172.90</td>\n",
       "      <td>179.50</td>\n",
       "      <td>165.00</td>\n",
       "      <td>165.90</td>\n",
       "      <td>168.35</td>\n",
       "    </tr>\n",
       "    <tr>\n",
       "      <th>...</th>\n",
       "      <td>...</td>\n",
       "      <td>...</td>\n",
       "      <td>...</td>\n",
       "      <td>...</td>\n",
       "      <td>...</td>\n",
       "      <td>...</td>\n",
       "      <td>...</td>\n",
       "    </tr>\n",
       "    <tr>\n",
       "      <th>5301</th>\n",
       "      <td>2021-04-26</td>\n",
       "      <td>HDFCBANK</td>\n",
       "      <td>1413.00</td>\n",
       "      <td>1429.00</td>\n",
       "      <td>1402.75</td>\n",
       "      <td>1404.80</td>\n",
       "      <td>1414.15</td>\n",
       "    </tr>\n",
       "    <tr>\n",
       "      <th>5302</th>\n",
       "      <td>2021-04-27</td>\n",
       "      <td>HDFCBANK</td>\n",
       "      <td>1407.25</td>\n",
       "      <td>1442.00</td>\n",
       "      <td>1404.80</td>\n",
       "      <td>1438.70</td>\n",
       "      <td>1404.80</td>\n",
       "    </tr>\n",
       "    <tr>\n",
       "      <th>5303</th>\n",
       "      <td>2021-04-28</td>\n",
       "      <td>HDFCBANK</td>\n",
       "      <td>1436.25</td>\n",
       "      <td>1479.00</td>\n",
       "      <td>1431.00</td>\n",
       "      <td>1476.80</td>\n",
       "      <td>1438.70</td>\n",
       "    </tr>\n",
       "    <tr>\n",
       "      <th>5304</th>\n",
       "      <td>2021-04-29</td>\n",
       "      <td>HDFCBANK</td>\n",
       "      <td>1486.20</td>\n",
       "      <td>1503.65</td>\n",
       "      <td>1461.00</td>\n",
       "      <td>1472.50</td>\n",
       "      <td>1476.80</td>\n",
       "    </tr>\n",
       "    <tr>\n",
       "      <th>5305</th>\n",
       "      <td>2021-04-30</td>\n",
       "      <td>HDFCBANK</td>\n",
       "      <td>1445.00</td>\n",
       "      <td>1453.80</td>\n",
       "      <td>1407.50</td>\n",
       "      <td>1412.30</td>\n",
       "      <td>1472.50</td>\n",
       "    </tr>\n",
       "  </tbody>\n",
       "</table>\n",
       "<p>5305 rows × 7 columns</p>\n",
       "</div>"
      ],
      "text/plain": [
       "            Date    Symbol     Open     High      Low    Close  Prev Close\n",
       "1     2000-01-04  HDFCBANK   182.00   183.45   171.00   173.80      170.00\n",
       "2     2000-01-05  HDFCBANK   170.00   173.90   165.00   166.95      173.80\n",
       "3     2000-01-06  HDFCBANK   168.00   170.00   165.30   168.30      166.95\n",
       "4     2000-01-07  HDFCBANK   162.15   171.00   162.15   168.35      168.30\n",
       "5     2000-01-10  HDFCBANK   172.90   179.50   165.00   165.90      168.35\n",
       "...          ...       ...      ...      ...      ...      ...         ...\n",
       "5301  2021-04-26  HDFCBANK  1413.00  1429.00  1402.75  1404.80     1414.15\n",
       "5302  2021-04-27  HDFCBANK  1407.25  1442.00  1404.80  1438.70     1404.80\n",
       "5303  2021-04-28  HDFCBANK  1436.25  1479.00  1431.00  1476.80     1438.70\n",
       "5304  2021-04-29  HDFCBANK  1486.20  1503.65  1461.00  1472.50     1476.80\n",
       "5305  2021-04-30  HDFCBANK  1445.00  1453.80  1407.50  1412.30     1472.50\n",
       "\n",
       "[5305 rows x 7 columns]"
      ]
     },
     "execution_count": 64,
     "metadata": {},
     "output_type": "execute_result"
    }
   ],
   "source": [
    "df.dropna(inplace=True)\n",
    "df[['Date','Symbol','Open','High','Low','Close','Prev Close']]"
   ]
  },
  {
   "cell_type": "code",
   "execution_count": 65,
   "id": "2dabb9b6",
   "metadata": {},
   "outputs": [
    {
     "name": "stdout",
     "output_type": "stream",
     "text": [
      "<class 'pandas.core.frame.DataFrame'>\n",
      "Index: 5305 entries, 1 to 5305\n",
      "Data columns (total 12 columns):\n",
      " #   Column      Non-Null Count  Dtype  \n",
      "---  ------      --------------  -----  \n",
      " 0   Date        5305 non-null   object \n",
      " 1   Symbol      5305 non-null   object \n",
      " 2   Series      5305 non-null   object \n",
      " 3   Prev Close  5305 non-null   float64\n",
      " 4   Open        5305 non-null   float64\n",
      " 5   High        5305 non-null   float64\n",
      " 6   Low         5305 non-null   float64\n",
      " 7   Last        5305 non-null   float64\n",
      " 8   Close       5305 non-null   float64\n",
      " 9   VWAP        5305 non-null   float64\n",
      " 10  Volume      5305 non-null   int64  \n",
      " 11  Turnover    5305 non-null   float64\n",
      "dtypes: float64(8), int64(1), object(3)\n",
      "memory usage: 538.8+ KB\n"
     ]
    }
   ],
   "source": [
    "df.info()"
   ]
  },
  {
   "cell_type": "code",
   "execution_count": 66,
   "id": "8b12ff63",
   "metadata": {},
   "outputs": [
    {
     "data": {
      "text/html": [
       "<div>\n",
       "<style scoped>\n",
       "    .dataframe tbody tr th:only-of-type {\n",
       "        vertical-align: middle;\n",
       "    }\n",
       "\n",
       "    .dataframe tbody tr th {\n",
       "        vertical-align: top;\n",
       "    }\n",
       "\n",
       "    .dataframe thead th {\n",
       "        text-align: right;\n",
       "    }\n",
       "</style>\n",
       "<table border=\"1\" class=\"dataframe\">\n",
       "  <thead>\n",
       "    <tr style=\"text-align: right;\">\n",
       "      <th></th>\n",
       "      <th>Prev Close</th>\n",
       "      <th>Open</th>\n",
       "      <th>High</th>\n",
       "      <th>Low</th>\n",
       "      <th>Last</th>\n",
       "      <th>Close</th>\n",
       "      <th>VWAP</th>\n",
       "      <th>Volume</th>\n",
       "      <th>Turnover</th>\n",
       "    </tr>\n",
       "  </thead>\n",
       "  <tbody>\n",
       "    <tr>\n",
       "      <th>count</th>\n",
       "      <td>5305.000000</td>\n",
       "      <td>5305.000000</td>\n",
       "      <td>5305.000000</td>\n",
       "      <td>5305.000000</td>\n",
       "      <td>5305.000000</td>\n",
       "      <td>5305.000000</td>\n",
       "      <td>5305.000000</td>\n",
       "      <td>5.305000e+03</td>\n",
       "      <td>5.305000e+03</td>\n",
       "    </tr>\n",
       "    <tr>\n",
       "      <th>mean</th>\n",
       "      <td>1007.254053</td>\n",
       "      <td>1007.631385</td>\n",
       "      <td>1020.147163</td>\n",
       "      <td>993.978256</td>\n",
       "      <td>1007.521847</td>\n",
       "      <td>1007.488228</td>\n",
       "      <td>1007.087116</td>\n",
       "      <td>2.102970e+06</td>\n",
       "      <td>2.449297e+14</td>\n",
       "    </tr>\n",
       "    <tr>\n",
       "      <th>std</th>\n",
       "      <td>635.710618</td>\n",
       "      <td>635.416358</td>\n",
       "      <td>641.398943</td>\n",
       "      <td>629.459517</td>\n",
       "      <td>635.678685</td>\n",
       "      <td>635.630950</td>\n",
       "      <td>635.437777</td>\n",
       "      <td>3.970321e+06</td>\n",
       "      <td>4.778436e+14</td>\n",
       "    </tr>\n",
       "    <tr>\n",
       "      <th>min</th>\n",
       "      <td>163.400000</td>\n",
       "      <td>162.150000</td>\n",
       "      <td>167.900000</td>\n",
       "      <td>157.000000</td>\n",
       "      <td>163.000000</td>\n",
       "      <td>163.400000</td>\n",
       "      <td>161.400000</td>\n",
       "      <td>1.042000e+03</td>\n",
       "      <td>2.291142e+10</td>\n",
       "    </tr>\n",
       "    <tr>\n",
       "      <th>25%</th>\n",
       "      <td>479.950000</td>\n",
       "      <td>482.750000</td>\n",
       "      <td>486.950000</td>\n",
       "      <td>473.400000</td>\n",
       "      <td>481.000000</td>\n",
       "      <td>480.950000</td>\n",
       "      <td>480.150000</td>\n",
       "      <td>3.061880e+05</td>\n",
       "      <td>1.642027e+13</td>\n",
       "    </tr>\n",
       "    <tr>\n",
       "      <th>50%</th>\n",
       "      <td>935.000000</td>\n",
       "      <td>939.700000</td>\n",
       "      <td>954.000000</td>\n",
       "      <td>922.200000</td>\n",
       "      <td>936.200000</td>\n",
       "      <td>936.450000</td>\n",
       "      <td>937.470000</td>\n",
       "      <td>9.445620e+05</td>\n",
       "      <td>1.150500e+14</td>\n",
       "    </tr>\n",
       "    <tr>\n",
       "      <th>75%</th>\n",
       "      <td>1421.150000</td>\n",
       "      <td>1424.000000</td>\n",
       "      <td>1440.000000</td>\n",
       "      <td>1399.000000</td>\n",
       "      <td>1423.000000</td>\n",
       "      <td>1421.150000</td>\n",
       "      <td>1420.780000</td>\n",
       "      <td>2.124352e+06</td>\n",
       "      <td>2.154579e+14</td>\n",
       "    </tr>\n",
       "    <tr>\n",
       "      <th>max</th>\n",
       "      <td>2565.800000</td>\n",
       "      <td>2566.000000</td>\n",
       "      <td>2583.300000</td>\n",
       "      <td>2553.700000</td>\n",
       "      <td>2563.000000</td>\n",
       "      <td>2565.800000</td>\n",
       "      <td>2570.700000</td>\n",
       "      <td>1.005650e+08</td>\n",
       "      <td>1.426400e+16</td>\n",
       "    </tr>\n",
       "  </tbody>\n",
       "</table>\n",
       "</div>"
      ],
      "text/plain": [
       "        Prev Close         Open         High          Low         Last  \\\n",
       "count  5305.000000  5305.000000  5305.000000  5305.000000  5305.000000   \n",
       "mean   1007.254053  1007.631385  1020.147163   993.978256  1007.521847   \n",
       "std     635.710618   635.416358   641.398943   629.459517   635.678685   \n",
       "min     163.400000   162.150000   167.900000   157.000000   163.000000   \n",
       "25%     479.950000   482.750000   486.950000   473.400000   481.000000   \n",
       "50%     935.000000   939.700000   954.000000   922.200000   936.200000   \n",
       "75%    1421.150000  1424.000000  1440.000000  1399.000000  1423.000000   \n",
       "max    2565.800000  2566.000000  2583.300000  2553.700000  2563.000000   \n",
       "\n",
       "             Close         VWAP        Volume      Turnover  \n",
       "count  5305.000000  5305.000000  5.305000e+03  5.305000e+03  \n",
       "mean   1007.488228  1007.087116  2.102970e+06  2.449297e+14  \n",
       "std     635.630950   635.437777  3.970321e+06  4.778436e+14  \n",
       "min     163.400000   161.400000  1.042000e+03  2.291142e+10  \n",
       "25%     480.950000   480.150000  3.061880e+05  1.642027e+13  \n",
       "50%     936.450000   937.470000  9.445620e+05  1.150500e+14  \n",
       "75%    1421.150000  1420.780000  2.124352e+06  2.154579e+14  \n",
       "max    2565.800000  2570.700000  1.005650e+08  1.426400e+16  "
      ]
     },
     "execution_count": 66,
     "metadata": {},
     "output_type": "execute_result"
    }
   ],
   "source": [
    "df.describe()"
   ]
  },
  {
   "cell_type": "code",
   "execution_count": 67,
   "id": "7100d08c",
   "metadata": {},
   "outputs": [],
   "source": [
    "df['Date'] = pd.to_datetime(df.Date)"
   ]
  },
  {
   "cell_type": "code",
   "execution_count": 69,
   "id": "81d7efe3",
   "metadata": {},
   "outputs": [
    {
     "data": {
      "image/png": "[encoded data removed]",
      "text/plain": [
       "<IPython.core.display.Image object>"
      ]
     },
     "metadata": {},
     "output_type": "display_data"
    }
   ],
   "source": [
    "import plotly.graph_objects as go\n",
    "from IPython.display import Image, display\n",
    "\n",
    "\n",
    "fig = go.Figure()\n",
    "fig.add_trace(go.Scatter(x=df['Date'], y=df['Close'], mode='lines', name='Closing Price'))\n",
    "\n",
    "\n",
    "fig.update_layout(\n",
    "    title='Stock Closing Prices Over Time',\n",
    "    xaxis_title='Date',\n",
    "    yaxis_title='Closing Price',\n",
    "    width=1000, \n",
    "    height=600\n",
    ")\n",
    "\n",
    "\n",
    "\n",
    "fig.write_image(\"stock_closing_prices.png\", engine='orca')\n",
    "\n",
    "display(Image(filename='stock_closing_prices.png'))"
   ]
  },
  {
   "cell_type": "markdown",
   "id": "7780cd50",
   "metadata": {},
   "source": [
    "<span style=\"color:black\"># MODEL CREATION</span>"
   ]
  },
  {
   "cell_type": "code",
   "execution_count": 70,
   "id": "04eefe9b",
   "metadata": {},
   "outputs": [],
   "source": [
    "x = df[['Open','Prev Close']]\n",
    "y = df['Close']"
   ]
  },
  {
   "cell_type": "code",
   "execution_count": 71,
   "id": "4c112af4",
   "metadata": {},
   "outputs": [],
   "source": [
    "from sklearn.model_selection import train_test_split\n",
    "x_train,x_test,y_train,y_test = train_test_split(x,y,test_size=0.33,random_state =42)"
   ]
  },
  {
   "cell_type": "code",
   "execution_count": 72,
   "id": "43d561bb",
   "metadata": {},
   "outputs": [
    {
     "name": "stdout",
     "output_type": "stream",
     "text": [
      "(3554, 2) (1751, 2)\n"
     ]
    }
   ],
   "source": [
    "print(x_train.shape,x_test.shape)"
   ]
  },
  {
   "cell_type": "code",
   "execution_count": 73,
   "id": "b43dcc19",
   "metadata": {},
   "outputs": [
    {
     "data": {
      "text/html": [
       "<style>#sk-container-id-2 {color: black;}#sk-container-id-2 pre{padding: 0;}#sk-container-id-2 div.sk-toggleable {background-color: white;}#sk-container-id-2 label.sk-toggleable__label {cursor: pointer;display: block;width: 100%;margin-bottom: 0;padding: 0.3em;box-sizing: border-box;text-align: center;}#sk-container-id-2 label.sk-toggleable__label-arrow:before {content: \"▸\";float: left;margin-right: 0.25em;color: #696969;}#sk-container-id-2 label.sk-toggleable__label-arrow:hover:before {color: black;}#sk-container-id-2 div.sk-estimator:hover label.sk-toggleable__label-arrow:before {color: black;}#sk-container-id-2 div.sk-toggleable__content {max-height: 0;max-width: 0;overflow: hidden;text-align: left;background-color: #f0f8ff;}#sk-container-id-2 div.sk-toggleable__content pre {margin: 0.2em;color: black;border-radius: 0.25em;background-color: #f0f8ff;}#sk-container-id-2 input.sk-toggleable__control:checked~div.sk-toggleable__content {max-height: 200px;max-width: 100%;overflow: auto;}#sk-container-id-2 input.sk-toggleable__control:checked~label.sk-toggleable__label-arrow:before {content: \"▾\";}#sk-container-id-2 div.sk-estimator input.sk-toggleable__control:checked~label.sk-toggleable__label {background-color: #d4ebff;}#sk-container-id-2 div.sk-label input.sk-toggleable__control:checked~label.sk-toggleable__label {background-color: #d4ebff;}#sk-container-id-2 input.sk-hidden--visually {border: 0;clip: rect(1px 1px 1px 1px);clip: rect(1px, 1px, 1px, 1px);height: 1px;margin: -1px;overflow: hidden;padding: 0;position: absolute;width: 1px;}#sk-container-id-2 div.sk-estimator {font-family: monospace;background-color: #f0f8ff;border: 1px dotted black;border-radius: 0.25em;box-sizing: border-box;margin-bottom: 0.5em;}#sk-container-id-2 div.sk-estimator:hover {background-color: #d4ebff;}#sk-container-id-2 div.sk-parallel-item::after {content: \"\";width: 100%;border-bottom: 1px solid gray;flex-grow: 1;}#sk-container-id-2 div.sk-label:hover label.sk-toggleable__label {background-color: #d4ebff;}#sk-container-id-2 div.sk-serial::before {content: \"\";position: absolute;border-left: 1px solid gray;box-sizing: border-box;top: 0;bottom: 0;left: 50%;z-index: 0;}#sk-container-id-2 div.sk-serial {display: flex;flex-direction: column;align-items: center;background-color: white;padding-right: 0.2em;padding-left: 0.2em;position: relative;}#sk-container-id-2 div.sk-item {position: relative;z-index: 1;}#sk-container-id-2 div.sk-parallel {display: flex;align-items: stretch;justify-content: center;background-color: white;position: relative;}#sk-container-id-2 div.sk-item::before, #sk-container-id-2 div.sk-parallel-item::before {content: \"\";position: absolute;border-left: 1px solid gray;box-sizing: border-box;top: 0;bottom: 0;left: 50%;z-index: -1;}#sk-container-id-2 div.sk-parallel-item {display: flex;flex-direction: column;z-index: 1;position: relative;background-color: white;}#sk-container-id-2 div.sk-parallel-item:first-child::after {align-self: flex-end;width: 50%;}#sk-container-id-2 div.sk-parallel-item:last-child::after {align-self: flex-start;width: 50%;}#sk-container-id-2 div.sk-parallel-item:only-child::after {width: 0;}#sk-container-id-2 div.sk-dashed-wrapped {border: 1px dashed gray;margin: 0 0.4em 0.5em 0.4em;box-sizing: border-box;padding-bottom: 0.4em;background-color: white;}#sk-container-id-2 div.sk-label label {font-family: monospace;font-weight: bold;display: inline-block;line-height: 1.2em;}#sk-container-id-2 div.sk-label-container {text-align: center;}#sk-container-id-2 div.sk-container {/* jupyter's `normalize.less` sets `[hidden] { display: none; }` but bootstrap.min.css set `[hidden] { display: none !important; }` so we also need the `!important` here to be able to override the default hidden behavior on the sphinx rendered scikit-learn.org. See: https://github.com/scikit-learn/scikit-learn/issues/21755 */display: inline-block !important;position: relative;}#sk-container-id-2 div.sk-text-repr-fallback {display: none;}</style><div id=\"sk-container-id-2\" class=\"sk-top-container\"><div class=\"sk-text-repr-fallback\"><pre>LinearRegression()</pre><b>In a Jupyter environment, please rerun this cell to show the HTML representation or trust the notebook. <br />On GitHub, the HTML representation is unable to render, please try loading this page with nbviewer.org.</b></div><div class=\"sk-container\" hidden><div class=\"sk-item\"><div class=\"sk-estimator sk-toggleable\"><input class=\"sk-toggleable__control sk-hidden--visually\" id=\"sk-estimator-id-2\" type=\"checkbox\" checked><label for=\"sk-estimator-id-2\" class=\"sk-toggleable__label sk-toggleable__label-arrow\">LinearRegression</label><div class=\"sk-toggleable__content\"><pre>LinearRegression()</pre></div></div></div></div></div>"
      ],
      "text/plain": [
       "LinearRegression()"
      ]
     },
     "execution_count": 73,
     "metadata": {},
     "output_type": "execute_result"
    }
   ],
   "source": [
    "from sklearn.linear_model import LinearRegression\n",
    "from sklearn.metrics import confusion_matrix, accuracy_score\n",
    "\n",
    "reg = LinearRegression()\n",
    "reg.fit(x_train,y_train)"
   ]
  },
  {
   "cell_type": "code",
   "execution_count": 74,
   "id": "fe42dfc4",
   "metadata": {},
   "outputs": [
    {
     "name": "stdout",
     "output_type": "stream",
     "text": [
      "[0.94027433 0.05982184]\n",
      "-0.11979445269525968\n"
     ]
    }
   ],
   "source": [
    "print(reg.coef_)\n",
    "print(reg.intercept_)"
   ]
  },
  {
   "cell_type": "code",
   "execution_count": 75,
   "id": "f527ab4b",
   "metadata": {},
   "outputs": [
    {
     "name": "stdout",
     "output_type": "stream",
     "text": [
      "        Open  Prev Close\n",
      "812    235.5      234.30\n",
      "4039  1027.0     1026.70\n",
      "4798  2250.0     2287.25\n",
      "3066   536.4      530.40\n",
      "1865  1105.5     1090.95\n",
      "...      ...         ...\n",
      "1698   900.3      890.15\n",
      "137    250.0      251.25\n",
      "4632  2121.0     2121.65\n",
      "5217  1435.0     1441.80\n",
      "577    226.8      224.75\n",
      "\n",
      "[1751 rows x 2 columns]\n"
     ]
    }
   ],
   "source": [
    "predicted = reg.predict(x_test)\n",
    "print(x_test)"
   ]
  },
  {
   "cell_type": "code",
   "execution_count": 76,
   "id": "77250cc2",
   "metadata": {},
   "outputs": [
    {
     "name": "stdout",
     "output_type": "stream",
     "text": [
      "       Actual    Predicted\n",
      "812    233.15   235.331067\n",
      "4039  1030.45  1026.961022\n",
      "4798  2237.35  2252.324944\n",
      "3066   529.35   535.972858\n",
      "1865  1097.35  1104.616110\n",
      "...       ...          ...\n",
      "1698   931.00   899.659593\n",
      "137    248.35   249.979024\n",
      "4632  2114.30  2121.123059\n",
      "5217  1411.35  1435.424993\n",
      "577    224.95   226.579381\n",
      "\n",
      "[1751 rows x 2 columns]\n"
     ]
    }
   ],
   "source": [
    "_df = pd.DataFrame({\"Actual\":y_test, \"Predicted\":predicted})\n",
    "print(_df)"
   ]
  },
  {
   "cell_type": "code",
   "execution_count": 77,
   "id": "fc6fe05b",
   "metadata": {},
   "outputs": [
    {
     "data": {
      "text/plain": [
       "0.9991329315822302"
      ]
     },
     "execution_count": 77,
     "metadata": {},
     "output_type": "execute_result"
    }
   ],
   "source": [
    "reg.score(x_test,y_test)"
   ]
  },
  {
   "cell_type": "code",
   "execution_count": 78,
   "id": "0e7fd53d",
   "metadata": {},
   "outputs": [
    {
     "name": "stdout",
     "output_type": "stream",
     "text": [
      "Mean Absolute Error 12.059358949887846\n",
      "Mean Squared Error 349.361136361257\n",
      "Root Mean Error 18.691204786242565\n"
     ]
    }
   ],
   "source": [
    "import math\n",
    "\n",
    "print(\"Mean Absolute Error\",metrics.mean_absolute_error(y_test,predicted))\n",
    "print(\"Mean Squared Error\",metrics.mean_squared_error(y_test,predicted))\n",
    "print(\"Root Mean Error\",math.sqrt(metrics.mean_squared_error(y_test,predicted)))"
   ]
  },
  {
   "cell_type": "code",
   "execution_count": 79,
   "id": "0cb4ac65",
   "metadata": {},
   "outputs": [
    {
     "name": "stdout",
     "output_type": "stream",
     "text": [
      "[ 181.1798458   170.12387685  167.8335486  ... 1436.41488831 1485.66080304\n",
      " 1446.66426683]\n"
     ]
    }
   ],
   "source": [
    "predicted = reg.predict(x)\n",
    "print(predicted)"
   ]
  },
  {
   "cell_type": "markdown",
   "id": "6c6bbc2c",
   "metadata": {},
   "source": [
    "<span style=\"color:black\">### RESULT</span>"
   ]
  },
  {
   "cell_type": "code",
   "execution_count": 80,
   "id": "632b2da3",
   "metadata": {},
   "outputs": [
    {
     "data": {
      "image/png": "[encoded data removed]",
      "text/plain": [
       "<IPython.core.display.Image object>"
      ]
     },
     "metadata": {},
     "output_type": "display_data"
    }
   ],
   "source": [
    "fig = go.Figure()\n",
    "\n",
    "\n",
    "fig.add_trace(go.Scatter(x=list(range(len(y))), y=y, mode='lines', name='Actual'))\n",
    "\n",
    "\n",
    "fig.add_trace(go.Scatter(x=list(range(len(predicted))), y=predicted, mode='lines', name='Predicted'))\n",
    "\n",
    "\n",
    "fig.update_layout(\n",
    "    title='Actual vs Predicted',\n",
    "    xaxis_title='Index',\n",
    "    yaxis_title='Value',\n",
    "    legend=dict(x=0, y=1),\n",
    "    width=1000,\n",
    "    height=600\n",
    ")\n",
    "\n",
    "\n",
    "\n",
    "fig.write_image(\"actual_vs_predicted.png\", engine='orca')\n",
    "\n",
    "\n",
    "display(Image(filename='actual_vs_predicted.png'))\n"
   ]
  },
  {
   "cell_type": "code",
   "execution_count": null,
   "id": "4c6e5a70",
   "metadata": {},
   "outputs": [],
   "source": []
  }
 ],
 "metadata": {
  "kernelspec": {
   "display_name": "Python 3 (ipykernel)",
   "language": "python",
   "name": "python3"
  },
  "language_info": {
   "codemirror_mode": {
    "name": "ipython",
    "version": 3
   },
   "file_extension": ".py",
   "mimetype": "text/x-python",
   "name": "python",
   "nbconvert_exporter": "python",
   "pygments_lexer": "ipython3",
   "version": "3.10.13"
  }
 },
 "nbformat": 4,
 "nbformat_minor": 5
}
